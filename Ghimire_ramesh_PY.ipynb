{
  "nbformat": 4,
  "nbformat_minor": 0,
  "metadata": {
    "colab": {
      "provenance": [],
      "authorship_tag": "ABX9TyO3Ha7HaQYM6hh0f1VIvE5z",
      "include_colab_link": true
    },
    "kernelspec": {
      "name": "python3",
      "display_name": "Python 3"
    },
    "language_info": {
      "name": "python"
    }
  },
  "cells": [
    {
      "cell_type": "markdown",
      "metadata": {
        "id": "view-in-github",
        "colab_type": "text"
      },
      "source": [
        "<a href=\"https://colab.research.google.com/github/rghimre3/INFO5505_Machine_Learning_for_Data_Scientist/blob/main/Ghimire_ramesh_PY.ipynb\" target=\"_parent\"><img src=\"https://colab.research.google.com/assets/colab-badge.svg\" alt=\"Open In Colab\"/></a>"
      ]
    },
    {
      "cell_type": "markdown",
      "source": [
        "**Logistic Regression (Assignment 2)**\n",
        "\n",
        "*Ramesh Ghimire*\n",
        "\n",
        "*INFO 5505*\n"
      ],
      "metadata": {
        "id": "i88EKev5-L5V"
      }
    },
    {
      "cell_type": "markdown",
      "source": [
        "Develop and evaluate a logistic model to predict the quality (such as high quality and low quality) of red wines according to the several features and calculating test scores. Write your model in Python.\n",
        "\n",
        "Features that affect wine quality : 'fixed acidity', 'volatile acidity', 'citric acid', 'residual sugar', 'chlorides', 'free sulfur dioxide', 'total sulfur dioxide', 'density', 'pH', 'sulphates', 'alcohol' .\n",
        "\n",
        "Please split 80% data for training and 20% data for testing.\n",
        "\n",
        "Calculate the accuracy of the prediction. \n",
        "\n",
        "The dataset can be found at Kaggle: HereLinks to an external site.\n",
        "\n",
        "Submit your code (Lastname_FirstName.py) , and test results. \n",
        "\n",
        "The code must be in Lastname_FirstName.py format, and any other format will receive zero.\n"
      ],
      "metadata": {
        "id": "PRWKIFO2-G7T"
      }
    },
    {
      "cell_type": "code",
      "source": [],
      "metadata": {
        "id": "eceEd8v_-J_x"
      },
      "execution_count": null,
      "outputs": []
    }
  ]
}