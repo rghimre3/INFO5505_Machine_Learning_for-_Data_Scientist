{
  "nbformat": 4,
  "nbformat_minor": 0,
  "metadata": {
    "colab": {
      "provenance": [],
      "name": "INFO5505_Linear Regression (Assignment 1).ipynb",
      "authorship_tag": "ABX9TyMP8THrdMk9CxT/qjTrhsh9",
      "include_colab_link": true
    },
    "kernelspec": {
      "name": "python3",
      "display_name": "Python 3"
    },
    "language_info": {
      "name": "python"
    }
  },
  "cells": [
    {
      "cell_type": "markdown",
      "metadata": {
        "id": "view-in-github",
        "colab_type": "text"
      },
      "source": [
        "<a href=\"https://colab.research.google.com/github/rghimre3/INFO5505_Machine_Learning_for_Data_Scientist/blob/main/INFO5505_Linear_Regression_(Assignment_1).ipynb\" target=\"_parent\"><img src=\"https://colab.research.google.com/assets/colab-badge.svg\" alt=\"Open In Colab\"/></a>"
      ]
    },
    {
      "cell_type": "markdown",
      "source": [
        "INFO5505_Machine_Learning_for_Data_Scientist \n",
        "\n",
        "Linear Regression (Assignment 1) \n",
        "\n",
        "@Ramesh Ghimire\n"
      ],
      "metadata": {
        "id": "Pm4IXbugEdZa"
      }
    },
    {
      "cell_type": "code",
      "source": [
        "#importing libraries\n",
        "\n",
        "import pandas as pd\n",
        "import matplotlib.pyplot as plt\n"
      ],
      "metadata": {
        "id": "m5txaySCEley"
      },
      "execution_count": 3,
      "outputs": []
    },
    {
      "cell_type": "code",
      "source": [
        "#reading the data from gitlab\n",
        "df=pd.read_csv(\"https://raw.githubusercontent.com/rghimre3/INFO5505_Machine_Learning_for_Data_Scientist/main/monet.csv\")"
      ],
      "metadata": {
        "id": "B5UN8e7rIxx0"
      },
      "execution_count": 5,
      "outputs": []
    },
    {
      "cell_type": "code",
      "source": [
        "#cheking fist 5 observation and checking shape, data types and info\n",
        "print(df.head(20)) \n",
        "print(\"   \")\n",
        "print(df.shape) \n",
        "print(\"   \")\n",
        "print(df.describe())\n",
        "print(\"   \")\n",
        "print(df.info)"
      ],
      "metadata": {
        "colab": {
          "base_uri": "https://localhost:8080/"
        },
        "id": "tbLmUt0XJU4Y",
        "outputId": "42133dec-b144-4ee1-cd96-1a06cb726e98"
      },
      "execution_count": 6,
      "outputs": [
        {
          "output_type": "stream",
          "name": "stdout",
          "text": [
            "       PRICE  HEIGHT  WIDTH  SIGNED  PICTURE  HOUSE \n",
            "0   3.993780    21.3   25.6       1        1       1\n",
            "1   8.800000    31.9   25.6       1        2       2\n",
            "2   0.131694     6.9   15.9       0        3       3\n",
            "3   2.037500    25.7   32.0       1        4       2\n",
            "4   1.487500    25.7   32.0       1        4       2\n",
            "5   1.870000    25.6   31.9       1        4       1\n",
            "6   5.282500    25.5   35.6       1        5       1\n",
            "7   5.065750    26.0   34.3       1        5       2\n",
            "8   1.375000    25.6   36.2       1        5       2\n",
            "9   2.530000    25.6   36.4       1        6       2\n",
            "10  3.742500    25.6   36.4       1        6       2\n",
            "11  0.364343    25.6   36.2       1        7       2\n",
            "12  2.723870    31.9   39.4       1        8       2\n",
            "13  3.520000    23.6   31.9       1        9       1\n",
            "14  0.497500    19.5   25.0       1       10       2\n",
            "15  9.350000    32.7   26.8       1       11       1\n",
            "16  1.219500    25.5   36.0       1       12       2\n",
            "17  0.407000    25.6   39.4       1       12       2\n",
            "18  3.713390    25.6   36.2       1       13       3\n",
            "19  5.296406    25.8   21.5       1       14       2\n",
            "   \n",
            "(430, 6)\n",
            "   \n",
            "            PRICE      HEIGHT       WIDTH      SIGNED     PICTURE      HOUSE \n",
            "count  430.000000  430.000000  430.000000  430.000000  430.000000  430.000000\n",
            "mean     3.089996   27.646977   32.111395    0.820930  182.644186    1.611628\n",
            "std      4.311260   10.097013   10.459677    0.383857  109.091529    0.591592\n",
            "min      0.010413    3.900000    6.700000    0.000000    1.000000    1.000000\n",
            "25%      0.600153   23.125000   28.525000    1.000000   87.250000    1.000000\n",
            "50%      1.312782   25.600000   31.900000    1.000000  179.500000    2.000000\n",
            "75%      3.850000   31.450000   36.200000    1.000000  274.750000    2.000000\n",
            "max     33.013504   78.700000   89.000000    1.000000  387.000000    3.000000\n",
            "   \n",
            "<bound method DataFrame.info of         PRICE  HEIGHT  WIDTH  SIGNED  PICTURE  HOUSE \n",
            "0    3.993780    21.3   25.6       1        1       1\n",
            "1    8.800000    31.9   25.6       1        2       2\n",
            "2    0.131694     6.9   15.9       0        3       3\n",
            "3    2.037500    25.7   32.0       1        4       2\n",
            "4    1.487500    25.7   32.0       1        4       2\n",
            "..        ...     ...    ...     ...      ...     ...\n",
            "425  5.282500    25.6   39.4       1      375       1\n",
            "426  9.352500    25.9   39.6       1      375       2\n",
            "427  8.252500    25.6   39.6       1      375       1\n",
            "428  3.410000    25.6   39.4       1      386       2\n",
            "429  1.542500    25.7   32.0       1      387       1\n",
            "\n",
            "[430 rows x 6 columns]>\n"
          ]
        }
      ]
    },
    {
      "cell_type": "code",
      "source": [
        "print(df.dtypes)\n",
        "# data no need data typecasting "
      ],
      "metadata": {
        "colab": {
          "base_uri": "https://localhost:8080/"
        },
        "id": "D9lpmPfqLBND",
        "outputId": "12ba9813-5439-4713-9c03-ba4ad33d763b"
      },
      "execution_count": 7,
      "outputs": [
        {
          "output_type": "stream",
          "name": "stdout",
          "text": [
            "PRICE      float64\n",
            "HEIGHT     float64\n",
            "WIDTH      float64\n",
            "SIGNED       int64\n",
            "PICTURE      int64\n",
            "HOUSE        int64\n",
            "dtype: object\n"
          ]
        }
      ]
    },
    {
      "cell_type": "code",
      "source": [
        "print(df.isnull().sum())\n",
        "\n",
        "# there seems no null in the data "
      ],
      "metadata": {
        "colab": {
          "base_uri": "https://localhost:8080/"
        },
        "id": "HYcmJdK6LVR4",
        "outputId": "d402dbdb-01cb-49ca-e5fc-4d6a6b96c087"
      },
      "execution_count": null,
      "outputs": [
        {
          "output_type": "stream",
          "name": "stdout",
          "text": [
            "PRICE      0\n",
            "HEIGHT     0\n",
            "WIDTH      0\n",
            "SIGNED     0\n",
            "PICTURE    0\n",
            "HOUSE      0\n",
            "dtype: int64\n"
          ]
        }
      ]
    },
    {
      "cell_type": "code",
      "source": [
        "df.plot(kind='density', subplots=True, layout=(3,3), sharex=False)\n",
        "\n"
      ],
      "metadata": {
        "colab": {
          "base_uri": "https://localhost:8080/",
          "height": 366
        },
        "id": "gufhe4NUL5lL",
        "outputId": "b4e70bcd-1771-4c1c-861d-85133b3950aa"
      },
      "execution_count": 8,
      "outputs": [
        {
          "output_type": "execute_result",
          "data": {
            "text/plain": [
              "array([[<matplotlib.axes._subplots.AxesSubplot object at 0x7f9dc9cf0e20>,\n",
              "        <matplotlib.axes._subplots.AxesSubplot object at 0x7f9dc9cd72e0>,\n",
              "        <matplotlib.axes._subplots.AxesSubplot object at 0x7f9dc9c85700>],\n",
              "       [<matplotlib.axes._subplots.AxesSubplot object at 0x7f9dc9c34af0>,\n",
              "        <matplotlib.axes._subplots.AxesSubplot object at 0x7f9dc9be2ee0>,\n",
              "        <matplotlib.axes._subplots.AxesSubplot object at 0x7f9dc9b9c250>],\n",
              "       [<matplotlib.axes._subplots.AxesSubplot object at 0x7f9dc9bc9730>,\n",
              "        <matplotlib.axes._subplots.AxesSubplot object at 0x7f9dc9bc9790>,\n",
              "        <matplotlib.axes._subplots.AxesSubplot object at 0x7f9dc9b24040>]],\n",
              "      dtype=object)"
            ]
          },
          "metadata": {},
          "execution_count": 8
        },
        {
          "output_type": "display_data",
          "data": {
            "text/plain": [
              "<Figure size 432x288 with 9 Axes>"
            ],
            "image/png": "[encoded data removed]"
          },
          "metadata": {
            "needs_background": "light"
          }
        }
      ]
    },
    {
      "cell_type": "code",
      "source": [
        "df['AREA']=df['HEIGHT']*df['WIDTH']"
      ],
      "metadata": {
        "id": "LaPyxA42QnD-"
      },
      "execution_count": 11,
      "outputs": []
    },
    {
      "cell_type": "code",
      "source": [
        "df.head()"
      ],
      "metadata": {
        "id": "JFJameMhQuMZ",
        "outputId": "b1de5459-ab12-4337-95eb-8ab12b4ad94a",
        "colab": {
          "base_uri": "https://localhost:8080/",
          "height": 206
        }
      },
      "execution_count": 12,
      "outputs": [
        {
          "output_type": "execute_result",
          "data": {
            "text/plain": [
              "      PRICE  HEIGHT  WIDTH  SIGNED  PICTURE  HOUSE     Area    AREA\n",
              "0  3.993780    21.3   25.6       1        1       1  545.28  545.28\n",
              "1  8.800000    31.9   25.6       1        2       2  816.64  816.64\n",
              "2  0.131694     6.9   15.9       0        3       3  109.71  109.71\n",
              "3  2.037500    25.7   32.0       1        4       2  822.40  822.40\n",
              "4  1.487500    25.7   32.0       1        4       2  822.40  822.40"
            ],
            "text/html": [
              "\n",
              "  <div id=\"df-a73edc60-588e-41a9-a654-9a77a7e40241\">\n",
              "    <div class=\"colab-df-container\">\n",
              "      <div>\n",
              "<style scoped>\n",
              "    .dataframe tbody tr th:only-of-type {\n",
              "        vertical-align: middle;\n",
              "    }\n",
              "\n",
              "    .dataframe tbody tr th {\n",
              "        vertical-align: top;\n",
              "    }\n",
              "\n",
              "    .dataframe thead th {\n",
              "        text-align: right;\n",
              "    }\n",
              "</style>\n",
              "<table border=\"1\" class=\"dataframe\">\n",
              "  <thead>\n",
              "    <tr style=\"text-align: right;\">\n",
              "      <th></th>\n",
              "      <th>PRICE</th>\n",
              "      <th>HEIGHT</th>\n",
              "      <th>WIDTH</th>\n",
              "      <th>SIGNED</th>\n",
              "      <th>PICTURE</th>\n",
              "      <th>HOUSE</th>\n",
              "      <th>Area</th>\n",
              "      <th>AREA</th>\n",
              "    </tr>\n",
              "  </thead>\n",
              "  <tbody>\n",
              "    <tr>\n",
              "      <th>0</th>\n",
              "      <td>3.993780</td>\n",
              "      <td>21.3</td>\n",
              "      <td>25.6</td>\n",
              "      <td>1</td>\n",
              "      <td>1</td>\n",
              "      <td>1</td>\n",
              "      <td>545.28</td>\n",
              "      <td>545.28</td>\n",
              "    </tr>\n",
              "    <tr>\n",
              "      <th>1</th>\n",
              "      <td>8.800000</td>\n",
              "      <td>31.9</td>\n",
              "      <td>25.6</td>\n",
              "      <td>1</td>\n",
              "      <td>2</td>\n",
              "      <td>2</td>\n",
              "      <td>816.64</td>\n",
              "      <td>816.64</td>\n",
              "    </tr>\n",
              "    <tr>\n",
              "      <th>2</th>\n",
              "      <td>0.131694</td>\n",
              "      <td>6.9</td>\n",
              "      <td>15.9</td>\n",
              "      <td>0</td>\n",
              "      <td>3</td>\n",
              "      <td>3</td>\n",
              "      <td>109.71</td>\n",
              "      <td>109.71</td>\n",
              "    </tr>\n",
              "    <tr>\n",
              "      <th>3</th>\n",
              "      <td>2.037500</td>\n",
              "      <td>25.7</td>\n",
              "      <td>32.0</td>\n",
              "      <td>1</td>\n",
              "      <td>4</td>\n",
              "      <td>2</td>\n",
              "      <td>822.40</td>\n",
              "      <td>822.40</td>\n",
              "    </tr>\n",
              "    <tr>\n",
              "      <th>4</th>\n",
              "      <td>1.487500</td>\n",
              "      <td>25.7</td>\n",
              "      <td>32.0</td>\n",
              "      <td>1</td>\n",
              "      <td>4</td>\n",
              "      <td>2</td>\n",
              "      <td>822.40</td>\n",
              "      <td>822.40</td>\n",
              "    </tr>\n",
              "  </tbody>\n",
              "</table>\n",
              "</div>\n",
              "      <button class=\"colab-df-convert\" onclick=\"convertToInteractive('df-a73edc60-588e-41a9-a654-9a77a7e40241')\"\n",
              "              title=\"Convert this dataframe to an interactive table.\"\n",
              "              style=\"display:none;\">\n",
              "        \n",
              "  <svg xmlns=\"http://www.w3.org/2000/svg\" height=\"24px\"viewBox=\"0 0 24 24\"\n",
              "       width=\"24px\">\n",
              "    <path d=\"M0 0h24v24H0V0z\" fill=\"none\"/>\n",
              "    <path d=\"M18.56 5.44l.94 2.06.94-2.06 2.06-.94-2.06-.94-.94-2.06-.94 2.06-2.06.94zm-11 1L8.5 8.5l.94-2.06 2.06-.94-2.06-.94L8.5 2.5l-.94 2.06-2.06.94zm10 10l.94 2.06.94-2.06 2.06-.94-2.06-.94-.94-2.06-.94 2.06-2.06.94z\"/><path d=\"M17.41 7.96l-1.37-1.37c-.4-.4-.92-.59-1.43-.59-.52 0-1.04.2-1.43.59L10.3 9.45l-7.72 7.72c-.78.78-.78 2.05 0 2.83L4 21.41c.39.39.9.59 1.41.59.51 0 1.02-.2 1.41-.59l7.78-7.78 2.81-2.81c.8-.78.8-2.07 0-2.86zM5.41 20L4 18.59l7.72-7.72 1.47 1.35L5.41 20z\"/>\n",
              "  </svg>\n",
              "      </button>\n",
              "      \n",
              "  <style>\n",
              "    .colab-df-container {\n",
              "      display:flex;\n",
              "      flex-wrap:wrap;\n",
              "      gap: 12px;\n",
              "    }\n",
              "\n",
              "    .colab-df-convert {\n",
              "      background-color: #E8F0FE;\n",
              "      border: none;\n",
              "      border-radius: 50%;\n",
              "      cursor: pointer;\n",
              "      display: none;\n",
              "      fill: #1967D2;\n",
              "      height: 32px;\n",
              "      padding: 0 0 0 0;\n",
              "      width: 32px;\n",
              "    }\n",
              "\n",
              "    .colab-df-convert:hover {\n",
              "      background-color: #E2EBFA;\n",
              "      box-shadow: 0px 1px 2px rgba(60, 64, 67, 0.3), 0px 1px 3px 1px rgba(60, 64, 67, 0.15);\n",
              "      fill: #174EA6;\n",
              "    }\n",
              "\n",
              "    [theme=dark] .colab-df-convert {\n",
              "      background-color: #3B4455;\n",
              "      fill: #D2E3FC;\n",
              "    }\n",
              "\n",
              "    [theme=dark] .colab-df-convert:hover {\n",
              "      background-color: #434B5C;\n",
              "      box-shadow: 0px 1px 3px 1px rgba(0, 0, 0, 0.15);\n",
              "      filter: drop-shadow(0px 1px 2px rgba(0, 0, 0, 0.3));\n",
              "      fill: #FFFFFF;\n",
              "    }\n",
              "  </style>\n",
              "\n",
              "      <script>\n",
              "        const buttonEl =\n",
              "          document.querySelector('#df-a73edc60-588e-41a9-a654-9a77a7e40241 button.colab-df-convert');\n",
              "        buttonEl.style.display =\n",
              "          google.colab.kernel.accessAllowed ? 'block' : 'none';\n",
              "\n",
              "        async function convertToInteractive(key) {\n",
              "          const element = document.querySelector('#df-a73edc60-588e-41a9-a654-9a77a7e40241');\n",
              "          const dataTable =\n",
              "            await google.colab.kernel.invokeFunction('convertToInteractive',\n",
              "                                                     [key], {});\n",
              "          if (!dataTable) return;\n",
              "\n",
              "          const docLinkHtml = 'Like what you see? Visit the ' +\n",
              "            '<a target=\"_blank\" href=https://colab.research.google.com/notebooks/data_table.ipynb>data table notebook</a>'\n",
              "            + ' to learn more about interactive tables.';\n",
              "          element.innerHTML = '';\n",
              "          dataTable['output_type'] = 'display_data';\n",
              "          await google.colab.output.renderOutput(dataTable, element);\n",
              "          const docLink = document.createElement('div');\n",
              "          docLink.innerHTML = docLinkHtml;\n",
              "          element.appendChild(docLink);\n",
              "        }\n",
              "      </script>\n",
              "    </div>\n",
              "  </div>\n",
              "  "
            ]
          },
          "metadata": {},
          "execution_count": 12
        }
      ]
    },
    {
      "cell_type": "code",
      "source": [
        "plt.scatter(df['AREA'], df['PRICE'])\n",
        "# add labels and title\n",
        "plt.xlabel('ARES')\n",
        "plt.ylabel('PRICE')\n",
        "plt.title('Scatter Plot')\n",
        "\n",
        "# display the plot\n",
        "plt.show()"
      ],
      "metadata": {
        "colab": {
          "base_uri": "https://localhost:8080/",
          "height": 295
        },
        "id": "TMusOieujB9t",
        "outputId": "ed23b76e-1c16-4ab2-d354-521942233d2c"
      },
      "execution_count": 17,
      "outputs": [
        {
          "output_type": "display_data",
          "data": {
            "text/plain": [
              "<Figure size 432x288 with 1 Axes>"
            ],
            "image/png": "[encoded data removed]"
          },
          "metadata": {
            "needs_background": "light"
          }
        }
      ]
    }
  ]
}