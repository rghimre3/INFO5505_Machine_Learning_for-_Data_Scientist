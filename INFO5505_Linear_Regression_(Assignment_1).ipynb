{
  "nbformat": 4,
  "nbformat_minor": 0,
  "metadata": {
    "colab": {
      "provenance": [],
      "name": "INFO5505_Linear Regression (Assignment 1).ipynb",
      "authorship_tag": "ABX9TyNECMHUp7j3OmcqPIUC+dQf",
      "include_colab_link": true
    },
    "kernelspec": {
      "name": "python3",
      "display_name": "Python 3"
    },
    "language_info": {
      "name": "python"
    }
  },
  "cells": [
    {
      "cell_type": "markdown",
      "metadata": {
        "id": "view-in-github",
        "colab_type": "text"
      },
      "source": [
        "<a href=\"https://colab.research.google.com/github/rghimre3/INFO5505_Machine_Learning_for_Data_Scientist/blob/main/INFO5505_Linear_Regression_(Assignment_1).ipynb\" target=\"_parent\"><img src=\"https://colab.research.google.com/assets/colab-badge.svg\" alt=\"Open In Colab\"/></a>"
      ]
    },
    {
      "cell_type": "markdown",
      "source": [
        "INFO5505_Machine_Learning_for_Data_Scientist \n",
        "\n",
        "Linear Regression (Assignment 1) \n",
        "\n",
        "@Ramesh Ghimire\n"
      ],
      "metadata": {
        "id": "Pm4IXbugEdZa"
      }
    },
    {
      "cell_type": "code",
      "source": [],
      "metadata": {
        "id": "m5txaySCEley"
      },
      "execution_count": null,
      "outputs": []
    }
  ]
}