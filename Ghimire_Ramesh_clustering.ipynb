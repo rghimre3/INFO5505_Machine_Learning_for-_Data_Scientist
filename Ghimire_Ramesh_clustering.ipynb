{
  "nbformat": 4,
  "nbformat_minor": 0,
  "metadata": {
    "colab": {
      "provenance": [],
      "authorship_tag": "ABX9TyPgR9JIDOkKBhSq9UodW67U",
      "include_colab_link": true
    },
    "kernelspec": {
      "name": "python3",
      "display_name": "Python 3"
    },
    "language_info": {
      "name": "python"
    }
  },
  "cells": [
    {
      "cell_type": "markdown",
      "metadata": {
        "id": "view-in-github",
        "colab_type": "text"
      },
      "source": [
        "<a href=\"https://colab.research.google.com/github/rghimre3/INFO5505_Machine_Learning_for_Data_Scientist/blob/main/Ghimire_Ramesh_clustering.ipynb\" target=\"_parent\"><img src=\"https://colab.research.google.com/assets/colab-badge.svg\" alt=\"Open In Colab\"/></a>"
      ]
    },
    {
      "cell_type": "markdown",
      "source": [
        "Clustering (Assignment 3)\n",
        "\n",
        "Ramesh Ghimire\n",
        "\n",
        "INFO 5505"
      ],
      "metadata": {
        "id": "DlAlzdRQfMUz"
      }
    },
    {
      "cell_type": "markdown",
      "source": [
        "Amyotrophic Lateral Sclerosis (ALS) Case-Study Cluster analysis:\n",
        "Use the attached datasets, 15_ALS_CaseStudy_Docs.docx Download 15_ALS_CaseStudy_Docs.docx, ALS_PROACT_DataDictionary.pdf Download ALS_PROACT_DataDictionary.pdf, ALS_TestingData_78.csv Download ALS_TestingData_78.csv, ALS_TrainingData_2223.csvDownload ALS_TrainingData_2223.csv\n",
        "\n",
        "This case-study examines the patterns, symmetries, associations and causality in a rare but devastating disease, amyotrophic lateral sclerosis (ALS). A major clinically relevant question in this biomedical study is: What patient phenotypes can be automatically and reliably identified and used to predict the change of the ALSFRS slope over time?. This problem aims to explore the data set by unsupervised learning (you only need to work on K mean in this assignment).\n",
        "\n",
        "Load and prepare the data.\n",
        "\n",
        "Perform summary and preliminary visualization (i.e. show the clustering with selected features).\n",
        "\n",
        "Train a k-Means model on the data with selected features (3 or more), experiment at least two different k values, and explain which k value is a better choice.\n",
        "\n",
        "Evaluating the model performance by report the center of clusters.\n",
        "\n",
        "Visualize the final clustering result.\n",
        "Submit Python code, report that explains the k experiment, performance evaluation, and visualizations. \n",
        "\n",
        " \n",
        "\n",
        "Ref: http://www.socr.umich.edu/people/dinov/2017/Spring/DSPA_HS650/notes/12_kMeans_Clustering_Assignment.htmlLinks to an external site."
      ],
      "metadata": {
        "id": "3jjNV0LZeXyg"
      }
    },
    {
      "cell_type": "code",
      "execution_count": null,
      "metadata": {
        "id": "qekygou6dykq"
      },
      "outputs": [],
      "source": [
        "\n",
        "import warnings\n",
        "warnings.filterwarnings('ignore')\n",
        "\n",
        "import pandas as pd\n",
        "import numpy as np\n",
        "import matplotlib.pyplot as plt\n",
        "%matplotlib inline\n",
        "import seaborn as sns\n",
        "from sklearn.model_selection import train_test_split\n"
      ]
    },
    {
      "cell_type": "code",
      "source": [],
      "metadata": {
        "id": "VjNKfFPCft9r"
      },
      "execution_count": null,
      "outputs": []
    }
  ]
}